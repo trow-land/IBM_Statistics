{
  "metadata": {
    "kernelspec": {
      "name": "python",
      "display_name": "Python (Pyodide)",
      "language": "python"
    },
    "language_info": {
      "codemirror_mode": {
        "name": "python",
        "version": 3
      },
      "file_extension": ".py",
      "mimetype": "text/x-python",
      "name": "python",
      "nbconvert_exporter": "python",
      "pygments_lexer": "ipython3",
      "version": "3.8"
    }
  },
  "nbformat_minor": 4,
  "nbformat": 4,
  "cells": [
    {
      "cell_type": "markdown",
      "source": "<p style=\"text-align:center\">\n    <a href=\"https://skills.network/?utm_medium=Exinfluencer&utm_source=Exinfluencer&utm_content=000026UJ&utm_term=10006555&utm_id=NA-SkillsNetwork-Channel-SkillsNetworkCoursesIBMDeveloperSkillsNetworkST0151ENSkillsNetwork20531532-2022-01-01\" target=\"_blank\">\n    <img src=\"https://cf-courses-data.s3.us.cloud-object-storage.appdomain.cloud/assets/logos/SN_web_lightmode.png\" width=\"200\" alt=\"Skills Network Logo\"  />\n    </a>\n</p>\n",
      "metadata": {}
    },
    {
      "cell_type": "markdown",
      "source": "# **Regression Analysis**\n",
      "metadata": {}
    },
    {
      "cell_type": "markdown",
      "source": "Estimated time needed: **30** minutes\n",
      "metadata": {}
    },
    {
      "cell_type": "markdown",
      "source": "The goal of regression analysis is to describe the relationship between one set of variables called the dependent variables, and another set of variables, called independent or explanatory variables. When there is only one explanatory variable, it is called simple regression.\n",
      "metadata": {}
    },
    {
      "cell_type": "markdown",
      "source": "## Objectives\n",
      "metadata": {}
    },
    {
      "cell_type": "markdown",
      "source": "After completing this lab you will be able to:\n",
      "metadata": {}
    },
    {
      "cell_type": "markdown",
      "source": "*   Import Libraries\n*   Regression analysis in place of the t-test\n*   Regression analysis in place of ANOVA\n*   Regression analysis in place of correlation\n",
      "metadata": {}
    },
    {
      "cell_type": "markdown",
      "source": "***\n",
      "metadata": {}
    },
    {
      "cell_type": "markdown",
      "source": "## Import Libraries\n",
      "metadata": {}
    },
    {
      "cell_type": "markdown",
      "source": "All Libraries required for this lab are listed below. The libraries pre-installed on Skills Network Labs are commented. If you run this notebook in a different environment, e.g. your desktop, you may need to uncomment and install certain libraries.\n",
      "metadata": {}
    },
    {
      "cell_type": "code",
      "source": "#install specific version of libraries used in lab\n#! mamba install pandas==1.3.3\n#! mamba install numpy=1.21.2\n#! mamba install scipy=1.7.1-y\n#!  mamba install seaborn=0.9.0-y\n#!  mamba install matplotlib=3.4.3-y\n#!  mamba install statsmodels=0.12.0-y",
      "metadata": {},
      "outputs": [],
      "execution_count": null
    },
    {
      "cell_type": "markdown",
      "source": "Import the libraries we need for the lab\n",
      "metadata": {}
    },
    {
      "cell_type": "code",
      "source": "import piplite\nawait piplite.install(['numpy'],['pandas'])",
      "metadata": {
        "trusted": true
      },
      "outputs": [],
      "execution_count": 1
    },
    {
      "cell_type": "code",
      "source": "import numpy as np\nimport pandas as pd\nimport statsmodels.api as sm",
      "metadata": {
        "trusted": true
      },
      "outputs": [
        {
          "name": "stderr",
          "text": "<ipython-input-2-bce3ea2f0fed>:2: DeprecationWarning: \nPyarrow will become a required dependency of pandas in the next major release of pandas (pandas 3.0),\n(to allow more performant data types, such as the Arrow string type, and better interoperability with other libraries)\nbut was not found to be installed on your system.\nIf this would cause problems for you,\nplease provide us feedback at https://github.com/pandas-dev/pandas/issues/54466\n        \n  import pandas as pd\n",
          "output_type": "stream"
        }
      ],
      "execution_count": 2
    },
    {
      "cell_type": "code",
      "source": "from js import fetch\nimport io\n\nURL = 'https://cf-courses-data.s3.us.cloud-object-storage.appdomain.cloud/IBMDeveloperSkillsNetwork-ST0151EN-SkillsNetwork/labs/teachingratings.csv'\nresp = await fetch(URL)\nratings_url = io.BytesIO((await resp.arrayBuffer()).to_py())",
      "metadata": {
        "trusted": true
      },
      "outputs": [],
      "execution_count": 3
    },
    {
      "cell_type": "markdown",
      "source": "Read in the csv file from the URL using the request library\n",
      "metadata": {}
    },
    {
      "cell_type": "code",
      "source": "ratings_df = pd.read_csv(ratings_url)",
      "metadata": {
        "trusted": true
      },
      "outputs": [],
      "execution_count": 4
    },
    {
      "cell_type": "markdown",
      "source": "## Lab Exercises\n",
      "metadata": {}
    },
    {
      "cell_type": "markdown",
      "source": "In this section, you will learn how to run regression analysis in place of the t-test, ANOVA, and correlation\n",
      "metadata": {}
    },
    {
      "cell_type": "markdown",
      "source": "### Regression with T-test: Using the teachers rating data set, does gender affect teaching evaluation rates?\n",
      "metadata": {}
    },
    {
      "cell_type": "markdown",
      "source": "Initially, we had used the t-test to test if there was a statistical difference in evaluations for males and females, we are now going to use regression. We will state the null hypothesis:\n\n*   $H\\_0: β1$ = 0 (Gender has no effect on teaching evaluation scores)\n*   $H\\_1: β1$ is not equal to 0 (Gender has an effect on teaching evaluation scores)\n",
      "metadata": {}
    },
    {
      "cell_type": "markdown",
      "source": "We will use the female variable. female = 1 and male = 0\n",
      "metadata": {}
    },
    {
      "cell_type": "code",
      "source": "## X is the input variables (or independent variables)\nX = ratings_df['female']\n## y is the target/dependent variable\ny = ratings_df['eval']\n## add an intercept (beta_0) to our model\nX = sm.add_constant(X) \n\nmodel = sm.OLS(y, X).fit()\npredictions = model.predict(X)\n\n# Print out the statistics\nmodel.summary()",
      "metadata": {
        "trusted": true
      },
      "outputs": [
        {
          "execution_count": 5,
          "output_type": "execute_result",
          "data": {
            "text/plain": "<class 'statsmodels.iolib.summary.Summary'>\n\"\"\"\n                            OLS Regression Results                            \n==============================================================================\nDep. Variable:                   eval   R-squared:                       0.022\nModel:                            OLS   Adj. R-squared:                  0.020\nMethod:                 Least Squares   F-statistic:                     10.56\nDate:                Tue, 27 Aug 2024   Prob (F-statistic):            0.00124\nTime:                        07:38:18   Log-Likelihood:                -378.50\nNo. Observations:                 463   AIC:                             761.0\nDf Residuals:                     461   BIC:                             769.3\nDf Model:                           1                                         \nCovariance Type:            nonrobust                                         \n==============================================================================\n                 coef    std err          t      P>|t|      [0.025      0.975]\n------------------------------------------------------------------------------\nconst          4.0690      0.034    121.288      0.000       4.003       4.135\nfemale        -0.1680      0.052     -3.250      0.001      -0.270      -0.066\n==============================================================================\nOmnibus:                       17.625   Durbin-Watson:                   1.209\nProb(Omnibus):                  0.000   Jarque-Bera (JB):               18.970\nSkew:                          -0.496   Prob(JB):                     7.60e-05\nKurtosis:                       2.981   Cond. No.                         2.47\n==============================================================================\n\nNotes:\n[1] Standard Errors assume that the covariance matrix of the errors is correctly specified.\n\"\"\"",
            "text/html": "<table class=\"simpletable\">\n<caption>OLS Regression Results</caption>\n<tr>\n  <th>Dep. Variable:</th>          <td>eval</td>       <th>  R-squared:         </th> <td>   0.022</td>\n</tr>\n<tr>\n  <th>Model:</th>                   <td>OLS</td>       <th>  Adj. R-squared:    </th> <td>   0.020</td>\n</tr>\n<tr>\n  <th>Method:</th>             <td>Least Squares</td>  <th>  F-statistic:       </th> <td>   10.56</td>\n</tr>\n<tr>\n  <th>Date:</th>             <td>Tue, 27 Aug 2024</td> <th>  Prob (F-statistic):</th>  <td>0.00124</td>\n</tr>\n<tr>\n  <th>Time:</th>                 <td>07:38:18</td>     <th>  Log-Likelihood:    </th> <td> -378.50</td>\n</tr>\n<tr>\n  <th>No. Observations:</th>      <td>   463</td>      <th>  AIC:               </th> <td>   761.0</td>\n</tr>\n<tr>\n  <th>Df Residuals:</th>          <td>   461</td>      <th>  BIC:               </th> <td>   769.3</td>\n</tr>\n<tr>\n  <th>Df Model:</th>              <td>     1</td>      <th>                     </th>     <td> </td>   \n</tr>\n<tr>\n  <th>Covariance Type:</th>      <td>nonrobust</td>    <th>                     </th>     <td> </td>   \n</tr>\n</table>\n<table class=\"simpletable\">\n<tr>\n     <td></td>       <th>coef</th>     <th>std err</th>      <th>t</th>      <th>P>|t|</th>  <th>[0.025</th>    <th>0.975]</th>  \n</tr>\n<tr>\n  <th>const</th>  <td>    4.0690</td> <td>    0.034</td> <td>  121.288</td> <td> 0.000</td> <td>    4.003</td> <td>    4.135</td>\n</tr>\n<tr>\n  <th>female</th> <td>   -0.1680</td> <td>    0.052</td> <td>   -3.250</td> <td> 0.001</td> <td>   -0.270</td> <td>   -0.066</td>\n</tr>\n</table>\n<table class=\"simpletable\">\n<tr>\n  <th>Omnibus:</th>       <td>17.625</td> <th>  Durbin-Watson:     </th> <td>   1.209</td>\n</tr>\n<tr>\n  <th>Prob(Omnibus):</th> <td> 0.000</td> <th>  Jarque-Bera (JB):  </th> <td>  18.970</td>\n</tr>\n<tr>\n  <th>Skew:</th>          <td>-0.496</td> <th>  Prob(JB):          </th> <td>7.60e-05</td>\n</tr>\n<tr>\n  <th>Kurtosis:</th>      <td> 2.981</td> <th>  Cond. No.          </th> <td>    2.47</td>\n</tr>\n</table><br/><br/>Notes:<br/>[1] Standard Errors assume that the covariance matrix of the errors is correctly specified.",
            "text/latex": "\\begin{center}\n\\begin{tabular}{lclc}\n\\toprule\n\\textbf{Dep. Variable:}    &       eval       & \\textbf{  R-squared:         } &     0.022   \\\\\n\\textbf{Model:}            &       OLS        & \\textbf{  Adj. R-squared:    } &     0.020   \\\\\n\\textbf{Method:}           &  Least Squares   & \\textbf{  F-statistic:       } &     10.56   \\\\\n\\textbf{Date:}             & Tue, 27 Aug 2024 & \\textbf{  Prob (F-statistic):} &  0.00124    \\\\\n\\textbf{Time:}             &     07:38:18     & \\textbf{  Log-Likelihood:    } &   -378.50   \\\\\n\\textbf{No. Observations:} &         463      & \\textbf{  AIC:               } &     761.0   \\\\\n\\textbf{Df Residuals:}     &         461      & \\textbf{  BIC:               } &     769.3   \\\\\n\\textbf{Df Model:}         &           1      & \\textbf{                     } &             \\\\\n\\textbf{Covariance Type:}  &    nonrobust     & \\textbf{                     } &             \\\\\n\\bottomrule\n\\end{tabular}\n\\begin{tabular}{lcccccc}\n                & \\textbf{coef} & \\textbf{std err} & \\textbf{t} & \\textbf{P$> |$t$|$} & \\textbf{[0.025} & \\textbf{0.975]}  \\\\\n\\midrule\n\\textbf{const}  &       4.0690  &        0.034     &   121.288  &         0.000        &        4.003    &        4.135     \\\\\n\\textbf{female} &      -0.1680  &        0.052     &    -3.250  &         0.001        &       -0.270    &       -0.066     \\\\\n\\bottomrule\n\\end{tabular}\n\\begin{tabular}{lclc}\n\\textbf{Omnibus:}       & 17.625 & \\textbf{  Durbin-Watson:     } &    1.209  \\\\\n\\textbf{Prob(Omnibus):} &  0.000 & \\textbf{  Jarque-Bera (JB):  } &   18.970  \\\\\n\\textbf{Skew:}          & -0.496 & \\textbf{  Prob(JB):          } & 7.60e-05  \\\\\n\\textbf{Kurtosis:}      &  2.981 & \\textbf{  Cond. No.          } &     2.47  \\\\\n\\bottomrule\n\\end{tabular}\n%\\caption{OLS Regression Results}\n\\end{center}\n\nNotes: \\newline\n [1] Standard Errors assume that the covariance matrix of the errors is correctly specified."
          },
          "metadata": {}
        }
      ],
      "execution_count": 5
    },
    {
      "cell_type": "markdown",
      "source": "**Conclusion:** Like the t-test, the p-value is less than the alpha (α) level = 0.05, so we reject the null hypothesis as there is evidence that there is a difference in mean evaluation scores based on gender. The coefficient -0.1680 means that females get 0.168 scores less than men.\n",
      "metadata": {}
    },
    {
      "cell_type": "markdown",
      "source": "### Regression with ANOVA: Using the teachers' rating data set, does beauty  score for instructors  differ by age?\n",
      "metadata": {}
    },
    {
      "cell_type": "markdown",
      "source": "State the Hypothesis:\n\n*   $H\\_0: µ1 = µ2 = µ3$ (the three population means are equal)\n*   $H\\_1:$ At least one of the means differ\n",
      "metadata": {}
    },
    {
      "cell_type": "markdown",
      "source": "Then we group the data like we did with ANOVA\n",
      "metadata": {}
    },
    {
      "cell_type": "code",
      "source": "ratings_df.loc[(ratings_df['age'] <= 40), 'age_group'] = '40 years and younger'\nratings_df.loc[(ratings_df['age'] > 40)&(ratings_df['age'] < 57), 'age_group'] = 'between 40 and 57 years'\nratings_df.loc[(ratings_df['age'] >= 57), 'age_group'] = '57 years and older'",
      "metadata": {},
      "outputs": [],
      "execution_count": null
    },
    {
      "cell_type": "markdown",
      "source": "Use OLS function from the statsmodel library\n",
      "metadata": {}
    },
    {
      "cell_type": "code",
      "source": "from statsmodels.formula.api import ols\nlm = ols('beauty ~ age_group', data = ratings_df).fit()\ntable= sm.stats.anova_lm(lm)\nprint(table)",
      "metadata": {},
      "outputs": [],
      "execution_count": null
    },
    {
      "cell_type": "markdown",
      "source": "**Conclusion:** We can also see the same values for ANOVA like before and we will reject the null hypothesis since the p-value is less than 0.05 there is significant evidence that at least one of the means differ.\n",
      "metadata": {}
    },
    {
      "cell_type": "markdown",
      "source": "### Regression with ANOVA option 2\n",
      "metadata": {}
    },
    {
      "cell_type": "markdown",
      "source": "Create dummy variables - A dummy variable is a numeric variable that represents categorical data, such as gender, race, etc. Dummy variables are dichotomous, i.e they can take on only two quantitative values.\n",
      "metadata": {}
    },
    {
      "cell_type": "code",
      "source": "X = pd.get_dummies(ratings_df[['age_group']])",
      "metadata": {},
      "outputs": [],
      "execution_count": null
    },
    {
      "cell_type": "code",
      "source": "y = ratings_df['beauty']\n## add an intercept (beta_0) to our model\nX = sm.add_constant(X) \n\nmodel = sm.OLS(y, X).fit()\npredictions = model.predict(X)\n\n# Print out the statistics\nmodel.summary()",
      "metadata": {},
      "outputs": [],
      "execution_count": null
    },
    {
      "cell_type": "markdown",
      "source": "You will get the same results and conclusion\n",
      "metadata": {}
    },
    {
      "cell_type": "markdown",
      "source": "### Correlation: Using the teachers' rating dataset, Is teaching evaluation score correlated with beauty score?\n",
      "metadata": {}
    },
    {
      "cell_type": "code",
      "source": "## X is the input variables (or independent variables)\nX = ratings_df['beauty']\n## y is the target/dependent variable\ny = ratings_df['eval']\n## add an intercept (beta_0) to our model\nX = sm.add_constant(X) \n\nmodel = sm.OLS(y, X).fit()\npredictions = model.predict(X)\n\n# Print out the statistics\nmodel.summary()",
      "metadata": {},
      "outputs": [],
      "execution_count": null
    },
    {
      "cell_type": "markdown",
      "source": "**Conclusion:** p < 0.05 there is evidence of correlation between beauty and evaluation scores\n",
      "metadata": {}
    },
    {
      "cell_type": "markdown",
      "source": "## Practice Questions\n",
      "metadata": {}
    },
    {
      "cell_type": "markdown",
      "source": "### Question 1: Using the teachers' rating data set, does tenure affect beauty scores?\n\n*   Use α = 0.05\n",
      "metadata": {}
    },
    {
      "cell_type": "code",
      "source": "### insert code here",
      "metadata": {},
      "outputs": [],
      "execution_count": null
    },
    {
      "cell_type": "markdown",
      "source": "Double-click **here** for a hint.\n\n<!-- The hint is below:\n## State Hypothesis\nNull Hypothesis: Mean beauty scores for tenured and non-tenured instructors are equal\nAlternative Hypothesis: There is a difference in mean beauty scores for tenured and non-tenured instructors\n\n## use the dummy variable for tenure - the OLS library doesn't recognize texts\nX = ratings_df['tenured_prof']\n-->\n",
      "metadata": {}
    },
    {
      "cell_type": "markdown",
      "source": "Double-click **here** for the solution.\n\n<!-- The answer is below:\n## put beauty scores in a list\ny = ratings_df['beauty']\n## add an intercept (beta_0) to our model\nX = sm.add_constant(X) \n\nmodel = sm.OLS(y, X).fit()\npredictions = model.predict(X)\n\n# Print out the statistics\nmodel.summary()\np-value is greater than 0.05, so we fail to reject the null hypothesis as there is no evidence that the mean difference of tenured and untenured instructors are different\n-->\n",
      "metadata": {}
    },
    {
      "cell_type": "markdown",
      "source": "### Question 2: Using the teachers' rating data set, does being an English speaker affect the number of students assigned to professors?\n\n*   Use \"allstudents\"\n*   Use α = 0.05 and α = 0.1\n",
      "metadata": {}
    },
    {
      "cell_type": "code",
      "source": "## insert code here",
      "metadata": {},
      "outputs": [],
      "execution_count": null
    },
    {
      "cell_type": "markdown",
      "source": "Double-click **here** for a hint.\n\n<!-- The hint is below:\n## State Hypothesis\nNull Hypothesis: Mean number of students assigned to native English speakers vs non-native English speakers are equal\nAlternative Hypothesis: There is a difference in mean number of students assigned to native English speakers vs non-native English speakers\n\n## Is the instructor a native English speaker - make sure to use the binary variable \"English speaker\"\nX = ratings_df['English_speaker']\n## You can use the students or all students variable\ny = ratings_df['allstudents']\n-->\n",
      "metadata": {}
    },
    {
      "cell_type": "markdown",
      "source": "Double-click **here** for the solution.\n\n<!-- The answer is below:\n## add an intercept (beta_0) to our model\nX = sm.add_constant(X) \n\nmodel = sm.OLS(y, X).fit()\npredictions = model.predict(X)\n\n# Print out the statistics\nmodel.summary()\n\nAt α = 0.05, p-value is greater, we fail to reject the null hypothesis as there is no evidence that being a native English speaker or a non-native English speaker affects the number of students assigned to an instructor.\nAt α = 0.1, p-value is less, we reject the null hypothesis as there is evidence that there is a significant difference of mean number of students assigned to native English speakers vs non-native English speakers.\n-->\n",
      "metadata": {}
    },
    {
      "cell_type": "markdown",
      "source": "### Question 3: Using the teachers' rating data set, what is the correlation between the number of students who participated in the evaluation survey and evaluation scores?\n\n*   Use \"students\" variable\n",
      "metadata": {}
    },
    {
      "cell_type": "code",
      "source": "## insert code here",
      "metadata": {},
      "outputs": [],
      "execution_count": null
    },
    {
      "cell_type": "markdown",
      "source": "Double-click **here** for a hint.\n\n<!-- The hint is below:\n## create a list of students and evaluation socres\nX = ratings_df['students']\ny = ratings_df['eval']\n-->\n",
      "metadata": {}
    },
    {
      "cell_type": "markdown",
      "source": "Double-click **here** for the solution.\n\n<!-- The rest of the answer is below:\n## add an intercept (beta_0) to our model\nX = sm.add_constant(X) \n\nmodel = sm.OLS(y, X).fit()\npredictions = model.predict(X)\n\n# Print out the statistics\nmodel.summary()\n\nR-square is 0.001, R will be √0.001, correlation coefficient is 0.03 (close to 0). There is a very weak correlation between the number of students who participated in the evaluation survey and evaluation scores\n-->\n",
      "metadata": {}
    },
    {
      "cell_type": "markdown",
      "source": "## Authors\n\n[Pratiksha Verma](https://www.linkedin.com/in/pratiksha-verma-6487561b1/?utm_medium=Exinfluencer&utm_source=Exinfluencer&utm_content=000026UJ&utm_term=10006555&utm_id=NA-SkillsNetwork-Channel-SkillsNetworkCoursesIBMDeveloperSkillsNetworkST0151ENSkillsNetwork956-2022-01-01)\n\n## Change Log\n\n| Date (YYYY-MM-DD) | Version | Changed By      | Change Description      |\n| ----------------- | ------- | -------------   | ----------------------- |\n| 2022-11-09        | 1.0     | Pratiksha Verma | Converted initial version to Jupyterlite|\n\n\n<hr>\n\n## <h3 align=\"center\"> IBM Corporation 2022. All rights reserved. <h3/>\n",
      "metadata": {}
    }
  ]
}